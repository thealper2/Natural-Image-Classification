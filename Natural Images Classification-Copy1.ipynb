{
 "cells": [
  {
   "cell_type": "code",
   "execution_count": 148,
   "id": "8945508b",
   "metadata": {},
   "outputs": [],
   "source": [
    "import numpy as np\n",
    "import pandas as pd\n",
    "import os\n",
    "import cv2\n",
    "import matplotlib.pyplot as plt\n",
    "from tensorflow.keras.layers import Dense, Conv2D, Flatten, MaxPool2D, Dropout, LeakyReLU\n",
    "from tensorflow.keras.models import Sequential\n",
    "from sklearn.model_selection import train_test_split\n",
    "from sklearn.preprocessing import LabelEncoder\n",
    "from tensorflow.keras.utils import to_categorical"
   ]
  },
  {
   "cell_type": "code",
   "execution_count": 109,
   "id": "5dc61382",
   "metadata": {},
   "outputs": [],
   "source": [
    "root_dir = \"data/natural_images/\"\n",
    "folders = os.listdir(root_dir);"
   ]
  },
  {
   "cell_type": "code",
   "execution_count": 123,
   "id": "131b4c9e",
   "metadata": {},
   "outputs": [],
   "source": [
    "data = []\n",
    "labels = []"
   ]
  },
  {
   "cell_type": "code",
   "execution_count": 124,
   "id": "eeefaa0c",
   "metadata": {},
   "outputs": [],
   "source": [
    "for label in folders:\n",
    "    path = 'data/natural_images/{0}/'.format(label)\n",
    "    folder_data = os.listdir(path)\n",
    "    for image_path in folder_data:\n",
    "        img = cv2.imread(path + image_path)\n",
    "        img = cv2.resize(img, (32,32))\n",
    "        data.append(np.array(img))\n",
    "        labels.append(label)"
   ]
  },
  {
   "cell_type": "code",
   "execution_count": 125,
   "id": "314c9cc6",
   "metadata": {},
   "outputs": [],
   "source": [
    "data = np.array(data)\n",
    "labels = np.array(labels)"
   ]
  },
  {
   "cell_type": "code",
   "execution_count": 126,
   "id": "87c7838b",
   "metadata": {},
   "outputs": [
    {
     "data": {
      "text/plain": [
       "((6899, 32, 32, 3), (6899,))"
      ]
     },
     "execution_count": 126,
     "metadata": {},
     "output_type": "execute_result"
    }
   ],
   "source": [
    "data.shape, labels.shape"
   ]
  },
  {
   "cell_type": "code",
   "execution_count": 127,
   "id": "124d9429",
   "metadata": {},
   "outputs": [],
   "source": [
    "le = LabelEncoder()\n",
    "labels = le.fit_transform(labels)"
   ]
  },
  {
   "cell_type": "code",
   "execution_count": 128,
   "id": "e9d74eac",
   "metadata": {},
   "outputs": [],
   "source": [
    "labels = to_categorical(labels)"
   ]
  },
  {
   "cell_type": "code",
   "execution_count": 129,
   "id": "0dc5c6ec",
   "metadata": {},
   "outputs": [
    {
     "data": {
      "text/plain": [
       "((6899, 32, 32, 3), (6899, 8))"
      ]
     },
     "execution_count": 129,
     "metadata": {},
     "output_type": "execute_result"
    }
   ],
   "source": [
    "data.shape, labels.shape"
   ]
  },
  {
   "cell_type": "code",
   "execution_count": 130,
   "id": "0ffb9bd0",
   "metadata": {},
   "outputs": [],
   "source": [
    "rand = np.arange(6899)\n",
    "np.random.shuffle(rand)"
   ]
  },
  {
   "cell_type": "code",
   "execution_count": 131,
   "id": "7c6f0b24",
   "metadata": {},
   "outputs": [],
   "source": [
    "data = data[rand]\n",
    "labels = labels[rand]"
   ]
  },
  {
   "cell_type": "code",
   "execution_count": 132,
   "id": "4d77ad8c",
   "metadata": {},
   "outputs": [],
   "source": [
    "X_train, X_test, y_train, y_test = train_test_split(data, labels, test_size=0.2, random_state=4242)"
   ]
  },
  {
   "cell_type": "code",
   "execution_count": 142,
   "id": "974c3f0e",
   "metadata": {},
   "outputs": [],
   "source": [
    "model = Sequential([\n",
    "    Conv2D(32, (5, 5), padding=\"same\", activation='relu', input_shape=(32, 32, 3)),\n",
    "    MaxPool2D((2, 2)),\n",
    "    \n",
    "    Conv2D(64, (3, 3), activation=LeakyReLU(0.002)),\n",
    "    MaxPool2D((2, 2)),\n",
    "    \n",
    "    Dropout(0.3),\n",
    "    Flatten(),\n",
    "    Dense(256),\n",
    "    Dropout(0.3),\n",
    "    Dense(8, activation=\"softmax\")\n",
    "])\n",
    "\n",
    "model.compile(loss=\"categorical_crossentropy\", optimizer=\"adam\", metrics=[\"accuracy\"])"
   ]
  },
  {
   "cell_type": "code",
   "execution_count": 143,
   "id": "1fb3654f",
   "metadata": {},
   "outputs": [],
   "source": [
    "model.compile(\n",
    "    loss='categorical_crossentropy', \n",
    "    optimizer='adam', \n",
    "    metrics=['accuracy'])"
   ]
  },
  {
   "cell_type": "code",
   "execution_count": 144,
   "id": "83079d86",
   "metadata": {},
   "outputs": [
    {
     "name": "stdout",
     "output_type": "stream",
     "text": [
      "Epoch 1/10\n",
      "130/130 [==============================] - 4s 24ms/step - loss: 14.0494 - accuracy: 0.4873 - val_loss: 0.9464 - val_accuracy: 0.6659\n",
      "Epoch 2/10\n",
      "130/130 [==============================] - 3s 22ms/step - loss: 0.8839 - accuracy: 0.7067 - val_loss: 0.7514 - val_accuracy: 0.7326\n",
      "Epoch 3/10\n",
      "130/130 [==============================] - 3s 23ms/step - loss: 0.6391 - accuracy: 0.7787 - val_loss: 0.6885 - val_accuracy: 0.7645\n",
      "Epoch 4/10\n",
      "130/130 [==============================] - 3s 22ms/step - loss: 0.5341 - accuracy: 0.8198 - val_loss: 0.6674 - val_accuracy: 0.7884\n",
      "Epoch 5/10\n",
      "130/130 [==============================] - 3s 22ms/step - loss: 0.4729 - accuracy: 0.8417 - val_loss: 0.6740 - val_accuracy: 0.7964\n",
      "Epoch 6/10\n",
      "130/130 [==============================] - 3s 23ms/step - loss: 0.4373 - accuracy: 0.8553 - val_loss: 0.6198 - val_accuracy: 0.8232\n",
      "Epoch 7/10\n",
      "130/130 [==============================] - 4s 28ms/step - loss: 0.3935 - accuracy: 0.8645 - val_loss: 0.6439 - val_accuracy: 0.8130\n",
      "Epoch 8/10\n",
      "130/130 [==============================] - 4s 30ms/step - loss: 0.3536 - accuracy: 0.8833 - val_loss: 0.5613 - val_accuracy: 0.8261\n",
      "Epoch 9/10\n",
      "130/130 [==============================] - 3s 25ms/step - loss: 0.3743 - accuracy: 0.8833 - val_loss: 0.6603 - val_accuracy: 0.8254\n",
      "Epoch 10/10\n",
      "130/130 [==============================] - 4s 34ms/step - loss: 0.3236 - accuracy: 0.8896 - val_loss: 0.7907 - val_accuracy: 0.7993\n"
     ]
    }
   ],
   "source": [
    "history = model.fit(\n",
    "    X_train, \n",
    "    y_train, \n",
    "    epochs=10, \n",
    "    validation_split=0.25,\n",
    "    batch_size=32 \n",
    ")"
   ]
  },
  {
   "cell_type": "code",
   "execution_count": 145,
   "id": "36375e22",
   "metadata": {},
   "outputs": [],
   "source": [
    "model.save(\"natural.h5\")"
   ]
  },
  {
   "cell_type": "code",
   "execution_count": 146,
   "id": "c0780ab6",
   "metadata": {},
   "outputs": [
    {
     "data": {
      "text/html": [
       "<div>\n",
       "<style scoped>\n",
       "    .dataframe tbody tr th:only-of-type {\n",
       "        vertical-align: middle;\n",
       "    }\n",
       "\n",
       "    .dataframe tbody tr th {\n",
       "        vertical-align: top;\n",
       "    }\n",
       "\n",
       "    .dataframe thead th {\n",
       "        text-align: right;\n",
       "    }\n",
       "</style>\n",
       "<table border=\"1\" class=\"dataframe\">\n",
       "  <thead>\n",
       "    <tr style=\"text-align: right;\">\n",
       "      <th></th>\n",
       "      <th>loss</th>\n",
       "      <th>accuracy</th>\n",
       "      <th>val_loss</th>\n",
       "      <th>val_accuracy</th>\n",
       "    </tr>\n",
       "  </thead>\n",
       "  <tbody>\n",
       "    <tr>\n",
       "      <th>0</th>\n",
       "      <td>14.049450</td>\n",
       "      <td>0.487316</td>\n",
       "      <td>0.946434</td>\n",
       "      <td>0.665942</td>\n",
       "    </tr>\n",
       "    <tr>\n",
       "      <th>1</th>\n",
       "      <td>0.883852</td>\n",
       "      <td>0.706692</td>\n",
       "      <td>0.751370</td>\n",
       "      <td>0.732609</td>\n",
       "    </tr>\n",
       "    <tr>\n",
       "      <th>2</th>\n",
       "      <td>0.639103</td>\n",
       "      <td>0.778691</td>\n",
       "      <td>0.688543</td>\n",
       "      <td>0.764493</td>\n",
       "    </tr>\n",
       "    <tr>\n",
       "      <th>3</th>\n",
       "      <td>0.534099</td>\n",
       "      <td>0.819763</td>\n",
       "      <td>0.667419</td>\n",
       "      <td>0.788406</td>\n",
       "    </tr>\n",
       "    <tr>\n",
       "      <th>4</th>\n",
       "      <td>0.472893</td>\n",
       "      <td>0.841749</td>\n",
       "      <td>0.674029</td>\n",
       "      <td>0.796377</td>\n",
       "    </tr>\n",
       "  </tbody>\n",
       "</table>\n",
       "</div>"
      ],
      "text/plain": [
       "        loss  accuracy  val_loss  val_accuracy\n",
       "0  14.049450  0.487316  0.946434      0.665942\n",
       "1   0.883852  0.706692  0.751370      0.732609\n",
       "2   0.639103  0.778691  0.688543      0.764493\n",
       "3   0.534099  0.819763  0.667419      0.788406\n",
       "4   0.472893  0.841749  0.674029      0.796377"
      ]
     },
     "execution_count": 146,
     "metadata": {},
     "output_type": "execute_result"
    }
   ],
   "source": [
    "history_df = pd.DataFrame(history.history)\n",
    "history_df.head()"
   ]
  },
  {
   "cell_type": "code",
   "execution_count": 149,
   "id": "cf099bca",
   "metadata": {},
   "outputs": [
    {
     "data": {
      "image/png": "[encoded data removed]",
      "text/plain": [
       "<Figure size 640x480 with 1 Axes>"
      ]
     },
     "metadata": {},
     "output_type": "display_data"
    }
   ],
   "source": [
    "plt.figure()\n",
    "plt.plot(history.history[\"accuracy\"])\n",
    "plt.plot(history.history[\"val_accuracy\"])\n",
    "plt.xlabel(\"Epoch\")\n",
    "plt.ylabel(\"Accuracy\")\n",
    "plt.legend([\"train\", \"valid\"])\n",
    "plt.show()"
   ]
  },
  {
   "cell_type": "code",
   "execution_count": 150,
   "id": "81531f5d",
   "metadata": {},
   "outputs": [
    {
     "data": {
      "image/png": "[encoded data removed]",
      "text/plain": [
       "<Figure size 640x480 with 1 Axes>"
      ]
     },
     "metadata": {},
     "output_type": "display_data"
    }
   ],
   "source": [
    "plt.figure()\n",
    "plt.plot(history.history[\"loss\"])\n",
    "plt.plot(history.history[\"val_loss\"])\n",
    "plt.xlabel(\"Epoch\")\n",
    "plt.ylabel(\"Loss\")\n",
    "plt.legend([\"train\", \"valid\"])\n",
    "plt.show()"
   ]
  },
  {
   "cell_type": "code",
   "execution_count": 151,
   "id": "3a7b9f9d",
   "metadata": {},
   "outputs": [
    {
     "name": "stdout",
     "output_type": "stream",
     "text": [
      "44/44 [==============================] - 0s 6ms/step - loss: 0.7348 - accuracy: 0.8254\n"
     ]
    }
   ],
   "source": [
    "model.evaluate(X_test, y_test)"
   ]
  },
  {
   "cell_type": "code",
   "execution_count": 152,
   "id": "2df39f50",
   "metadata": {},
   "outputs": [
    {
     "name": "stdout",
     "output_type": "stream",
     "text": [
      "44/44 [==============================] - 0s 5ms/step\n"
     ]
    }
   ],
   "source": [
    "y_pred = model.predict(X_test)"
   ]
  },
  {
   "cell_type": "code",
   "execution_count": 157,
   "id": "62d5f7e9",
   "metadata": {},
   "outputs": [],
   "source": [
    "y_pred = to_categorical(y_pred)"
   ]
  },
  {
   "cell_type": "code",
   "execution_count": 162,
   "id": "2b77bee4",
   "metadata": {},
   "outputs": [
    {
     "data": {
      "text/plain": [
       "array([0., 0., 1., 0., 0., 0., 0., 0.], dtype=float32)"
      ]
     },
     "execution_count": 162,
     "metadata": {},
     "output_type": "execute_result"
    }
   ],
   "source": [
    "y_pred[1]"
   ]
  },
  {
   "cell_type": "code",
   "execution_count": 163,
   "id": "a731395e",
   "metadata": {},
   "outputs": [
    {
     "data": {
      "text/plain": [
       "array([0., 0., 1., 0., 0., 0., 0., 0.], dtype=float32)"
      ]
     },
     "execution_count": 163,
     "metadata": {},
     "output_type": "execute_result"
    }
   ],
   "source": [
    "y_test[1]"
   ]
  },
  {
   "cell_type": "code",
   "execution_count": 164,
   "id": "ffd642a7",
   "metadata": {},
   "outputs": [
    {
     "data": {
      "text/plain": [
       "array([ True,  True,  True,  True,  True,  True,  True,  True])"
      ]
     },
     "execution_count": 164,
     "metadata": {},
     "output_type": "execute_result"
    }
   ],
   "source": [
    "y_test[1] == y_pred[1]"
   ]
  },
  {
   "cell_type": "code",
   "execution_count": 165,
   "id": "85e551f4",
   "metadata": {},
   "outputs": [
    {
     "data": {
      "text/plain": [
       "(1380, 8)"
      ]
     },
     "execution_count": 165,
     "metadata": {},
     "output_type": "execute_result"
    }
   ],
   "source": [
    "y_pred.shape"
   ]
  },
  {
   "cell_type": "code",
   "execution_count": null,
   "id": "cc7f81bd",
   "metadata": {},
   "outputs": [],
   "source": []
  }
 ],
 "metadata": {
  "kernelspec": {
   "display_name": "Python 3 (ipykernel)",
   "language": "python",
   "name": "python3"
  },
  "language_info": {
   "codemirror_mode": {
    "name": "ipython",
    "version": 3
   },
   "file_extension": ".py",
   "mimetype": "text/x-python",
   "name": "python",
   "nbconvert_exporter": "python",
   "pygments_lexer": "ipython3",
   "version": "3.11.2"
  }
 },
 "nbformat": 4,
 "nbformat_minor": 5
}
